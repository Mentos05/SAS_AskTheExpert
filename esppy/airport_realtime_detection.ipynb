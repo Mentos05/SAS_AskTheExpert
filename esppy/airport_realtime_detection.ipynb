{
 "cells": [
  {
   "cell_type": "markdown",
   "metadata": {},
   "source": [
    "## Import SAS & Open Source Packages\n",
    "Postprocessing done in SAS Micro Analytics Services."
   ]
  },
  {
   "cell_type": "code",
   "execution_count": null,
   "metadata": {},
   "outputs": [],
   "source": [
    "# Import Open Source packages\n",
    "import threading\n",
    "import time\n",
    "import websocket\n",
    "import json\n",
    "import numpy as np\n",
    "import base64\n",
    "import cv2\n",
    "# Import SAS Packages\n",
    "import esppy\n",
    "# Import helper\n",
    "from helper.helpers import create_scoring_schema"
   ]
  },
  {
   "cell_type": "markdown",
   "metadata": {},
   "source": [
    "### Connect to SAS Event Stream Processing"
   ]
  },
  {
   "cell_type": "code",
   "execution_count": null,
   "metadata": {},
   "outputs": [],
   "source": [
    "esp = esppy.ESP(hostname='http://localhost:9900')                  # Connect to SAS ESP\n",
    "esp_project = esp.create_project('object_detection', n_threads=10) # Create a SAS ESP project\n",
    "esp_project.add_continuous_query('contquery')                      # Add a Query to project"
   ]
  },
  {
   "cell_type": "markdown",
   "metadata": {},
   "source": [
    "### Add a Source Window"
   ]
  },
  {
   "cell_type": "code",
   "execution_count": null,
   "metadata": {},
   "outputs": [],
   "source": [
    "# Window: Video Capture\n",
    "vid_capture = esp.SourceWindow(\n",
    "    autogen_key  = True,                             # create key automatically\n",
    "    schema       = ('id*:int64', 'image:blob'),      # window schema (columns)\n",
    "    index_type   = 'empty',                          # window index type\n",
    "    insert_only  = True,                             # window accepts inserts only\n",
    "    pubsub       = True                              # window can be used for publishing data\n",
    ")\n",
    "\n",
    "esp_project.windows['w_input_image'] = vid_capture   # add source window to project\n",
    "esp_project"
   ]
  },
  {
   "cell_type": "markdown",
   "metadata": {},
   "source": [
    "### Add a Resize Window"
   ]
  },
  {
   "cell_type": "code",
   "execution_count": null,
   "metadata": {},
   "outputs": [],
   "source": [
    "# Window: Video Resize\n",
    "vid_capture_resize = esp.CalculateWindow(\n",
    "    schema       = ('id*:int64','image:blob','_image_:blob'), # window schema\n",
    "    algorithm    = 'ImageProcessing',                         # algorithm to be used in calculation window\n",
    "    function     = 'resize',                                  # function to use\n",
    "    height       = 416,                                       # resize to height = 416 pixels\n",
    "    width        = 416,                                       # resize to width = 416 pixels\n",
    "    input_map    = dict(imageInput='image'),                  # define column of the input image\n",
    "    output_map   = dict(imageOutput='_image_')                # define column of the resized image\n",
    ")\n",
    "\n",
    "esp_project.windows['w_resize_image'] = vid_capture_resize    # add resize window to project\n",
    "\n",
    "vid_capture.add_target(vid_capture_resize, role='data')       # connect source window to resize window\n",
    "esp_project"
   ]
  },
  {
   "cell_type": "markdown",
   "metadata": {},
   "source": [
    "### Add Model Request and Model Reader Windows"
   ]
  },
  {
   "cell_type": "code",
   "execution_count": null,
   "metadata": {},
   "outputs": [],
   "source": [
    "# Window: Model Reader\n",
    "model_reader = esp.ModelReaderWindow()\n",
    "\n",
    "esp_project.windows['w_read_model'] = model_reader                       # add window to project\n",
    "\n",
    "# Window: Model Request\n",
    "model_request = esp.SourceWindow(\n",
    "    schema      = ('req_id*:int64', 'req_key:string', 'req_val:string'), # window schema\n",
    "    index_type  = 'empty',                                               # window index type\n",
    "    insert_only = True                                                   # window accepts inserts only\n",
    ")\n",
    "\n",
    "esp_project.windows['w_request_model'] = model_request                   # add window to project\n",
    "model_request.add_target(model_reader, role='request')                   # connect request window to reader window\n",
    "esp_project"
   ]
  },
  {
   "cell_type": "markdown",
   "metadata": {},
   "source": [
    "### Create a Scoring Window"
   ]
  },
  {
   "cell_type": "code",
   "execution_count": null,
   "metadata": {},
   "outputs": [],
   "source": [
    "# Window: Model Score\n",
    "model_score = esp.ScoreWindow(\n",
    "    schema=create_scoring_schema(number_objects=20),    # window schema created programmatically\n",
    ")\n",
    "model_score.add_offline_model(\n",
    "    model_type='astore'                                 # window receives an offline model (model is not trained during stream)\n",
    ")\n",
    "esp_project.windows['w_score_image'] = model_score      # add window to project\n",
    "model_reader.add_target(model_score, role='model')      # connect model window to score window\n",
    "vid_capture_resize.add_target(model_score, role='data') # connect resize window to score window\n",
    "esp_project"
   ]
  },
  {
   "cell_type": "markdown",
   "metadata": {},
   "source": [
    "### Create an Annotation Window"
   ]
  },
  {
   "cell_type": "code",
   "execution_count": null,
   "metadata": {},
   "outputs": [],
   "source": [
    "annotator = esp.ProceduralWindow(\n",
    "    schema=(create_scoring_schema(number_objects=20)+',image_annotated:blob'),              # window schema created programmatically\n",
    "    pubsub=True                                                                             # window can be used for subscribing data\n",
    ")\n",
    "# Use annotator plugin to visualize bounding boxes\n",
    "annotator.add_cxx_plugin(source='astore', \n",
    "                         name='annotator_plugin', \n",
    "                         function='annotateImage')\n",
    "annotator.set_cxx_plugin_context(cxx_name=\"annotator_plugin\", \n",
    "                                 cxx_function=\"initAnnotator\", \n",
    "                                 coord_source='astore', \n",
    "                                 coord_type='yolo', \n",
    "                                 in_image_field='image', \n",
    "                                 out_image_field='image_annotated', \n",
    "                                 tracker_prefix='Object', \n",
    "                                 frame_number_field='id', \n",
    "                                 scale_x='1280.0', \n",
    "                                 scale_y='720.0', \n",
    "                                 offset_x='1.0', \n",
    "                                 offset_y='1.0', \n",
    "                                 out_format='jpg', \n",
    "                                 show_text='true')\n",
    "annotator.set_finalized_callback(name='annotator_plugin', \n",
    "                                 function='finalizeAnnotator')\n",
    "esp_project.windows['w_annotator'] = annotator\n",
    "model_score.add_target(annotator, role='data')                                              # connect scoring window with annotator window\n",
    "esp_project"
   ]
  },
  {
   "cell_type": "markdown",
   "metadata": {},
   "source": [
    "### Load the project"
   ]
  },
  {
   "cell_type": "code",
   "execution_count": null,
   "metadata": {},
   "outputs": [],
   "source": [
    "esp.load_project(esp_project)"
   ]
  },
  {
   "cell_type": "markdown",
   "metadata": {},
   "source": [
    "### Publish the model into the ESP project"
   ]
  },
  {
   "cell_type": "code",
   "execution_count": null,
   "metadata": {},
   "outputs": [],
   "source": [
    "# Defines a simple CSV publisher\n",
    "pub = model_request.create_publisher(\n",
    "    blocksize=1, \n",
    "    rate=0, \n",
    "    pause=0, \n",
    "    opcode='insert', \n",
    "    format='csv'\n",
    ")\n",
    "pub.send('i,n,1,\"usegpuesp\",\"1\"\\n')                                                   # Enable GPU usage\n",
    "pub.send('i,n,2,\"ndevices\",\"1\"\\n')                                                    # Define number of used GPUs\n",
    "pub.send('i,n,3,\"action\",\"load\"\\n')                                                   # Call load action\n",
    "pub.send('i,n,4,\"type\",\"astore\"\\n')                                                   # model type is astore\n",
    "pub.send('i,n,5,\"reference\",\"/data/notebooks/esppy/git_ignore/Tiny-Yolov2.astore\"\\n') # path to astore file\n",
    "pub.send('i,n,6,,\\n')\n",
    "pub.close()"
   ]
  },
  {
   "cell_type": "markdown",
   "metadata": {},
   "source": [
    "## Define Video-Subscriber & -Publisher"
   ]
  },
  {
   "cell_type": "code",
   "execution_count": null,
   "metadata": {},
   "outputs": [],
   "source": [
    "def on_message(_, message):\n",
    "    try:\n",
    "        data = json.loads(message)\n",
    "        imageBufferBase64 = data['events'][0]['event']['image_annotated']['image_annotated']\n",
    "        nparr = np.frombuffer(base64.b64decode(imageBufferBase64), dtype=np.uint8)\n",
    "        frame = cv2.imdecode(nparr, cv2.IMREAD_COLOR)\n",
    "        cv2.imshow('frame',frame)\n",
    "        if cv2.waitKey(1) & 0xFF == ord('q'):\n",
    "            exit()\n",
    "    except Exception as e:\n",
    "        print(e)\n",
    "        \n",
    "annotator_subscriber = annotator.create_subscriber(format='json', mode='streaming', pagesize=1, on_message=on_message)\n",
    "annotator_subscriber.start()"
   ]
  },
  {
   "cell_type": "code",
   "execution_count": null,
   "metadata": {},
   "outputs": [],
   "source": [
    "video_publisher = vid_capture.create_publisher(format='csv', opcode='insert', pause=0, separator=',')\n",
    "video_file = 'git_ignore/turnaround.mp4'\n",
    "video_fps = 25\n",
    "cap = cv2.VideoCapture(video_file)\n",
    "prev = 0\n",
    "while True:\n",
    "    time_elapsed = time.time() - prev\n",
    "    if time_elapsed > 1./video_fps:\n",
    "        prev = time.time()\n",
    "        ret, frame = cap.read()\n",
    "        frame = cv2.resize(frame, (1280, 720))\n",
    "        _, buffer = cv2.imencode('.jpg', frame)\n",
    "        encoded_string = base64.b64encode(buffer)\n",
    "        strToSend = 'i, n, ' + str(10) + ',' + encoded_string.decode() + ',' + '\\n'\n",
    "        video_publisher.send(strToSend)"
   ]
  }
 ],
 "metadata": {
  "kernelspec": {
   "display_name": "Python 3",
   "language": "python",
   "name": "python3"
  },
  "language_info": {
   "codemirror_mode": {
    "name": "ipython",
    "version": 3
   },
   "file_extension": ".py",
   "mimetype": "text/x-python",
   "name": "python",
   "nbconvert_exporter": "python",
   "pygments_lexer": "ipython3",
   "version": "3.6.8"
  }
 },
 "nbformat": 4,
 "nbformat_minor": 4
}
